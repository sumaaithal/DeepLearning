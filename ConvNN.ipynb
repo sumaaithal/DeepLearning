{
  "nbformat": 4,
  "nbformat_minor": 0,
  "metadata": {
    "colab": {
      "provenance": [],
      "mount_file_id": "1cydg-dkw6_T6Z8lC8J7QPIoyAfZbvee4",
      "authorship_tag": "ABX9TyNfvcUh6d4Y9M3JpiX4e4oq",
      "include_colab_link": true
    },
    "kernelspec": {
      "name": "python3",
      "display_name": "Python 3"
    },
    "language_info": {
      "name": "python"
    }
  },
  "cells": [
    {
      "cell_type": "markdown",
      "metadata": {
        "id": "view-in-github",
        "colab_type": "text"
      },
      "source": [
        "<a href=\"https://colab.research.google.com/github/sumaaithal/DeepLearning/blob/main/ConvNN.ipynb\" target=\"_parent\"><img src=\"https://colab.research.google.com/assets/colab-badge.svg\" alt=\"Open In Colab\"/></a>"
      ]
    },
    {
      "cell_type": "code",
      "execution_count": 1,
      "metadata": {
        "id": "eBELy5mOixP9"
      },
      "outputs": [],
      "source": [
        "#import libraries"
      ]
    },
    {
      "cell_type": "code",
      "source": [
        "import numpy as np\n",
        "import pandas as pd\n",
        "import tensorflow as tf\n",
        "from keras.preprocessing.image import ImageDataGenerator\n",
        "from keras.preprocessing import image"
      ],
      "metadata": {
        "id": "07tV_Hdei3Px"
      },
      "execution_count": 34,
      "outputs": []
    },
    {
      "cell_type": "markdown",
      "source": [
        "## preprocessing training & testing data"
      ],
      "metadata": {
        "id": "lJIXkVYbk6FE"
      }
    },
    {
      "cell_type": "code",
      "source": [
        "train_datagen = ImageDataGenerator(\n",
        "    rescale=1./255,\n",
        "    shear_range=0.2,\n",
        "    zoom_range=0.2,\n",
        "    horizontal_flip=True\n",
        ")"
      ],
      "metadata": {
        "id": "2nt7xEYgl8Eg"
      },
      "execution_count": 5,
      "outputs": []
    },
    {
      "cell_type": "code",
      "source": [
        "training_set = train_datagen.flow_from_directory(\n",
        "    '/content/drive/MyDrive/dataset/training_set',\n",
        "    target_size=(64,64),\n",
        "    batch_size=32,\n",
        "    class_mode='binary'\n",
        ")"
      ],
      "metadata": {
        "colab": {
          "base_uri": "https://localhost:8080/"
        },
        "id": "TsJT-wgb2gbe",
        "outputId": "f6d9b0af-eaae-4bf8-d74e-c8c809ee59d1"
      },
      "execution_count": 8,
      "outputs": [
        {
          "output_type": "stream",
          "name": "stdout",
          "text": [
            "Found 8020 images belonging to 2 classes.\n"
          ]
        }
      ]
    },
    {
      "cell_type": "code",
      "source": [
        "test_datagen = ImageDataGenerator(\n",
        "    rescale=1./255\n",
        ")"
      ],
      "metadata": {
        "id": "rVJw-F0G2geR"
      },
      "execution_count": 9,
      "outputs": []
    },
    {
      "cell_type": "code",
      "source": [
        "test_set = test_datagen.flow_from_directory(\n",
        "    '/content/drive/MyDrive/dataset/test_set',\n",
        "    target_size=(64,64),\n",
        "    batch_size=32,\n",
        "    class_mode='binary'\n",
        ")"
      ],
      "metadata": {
        "colab": {
          "base_uri": "https://localhost:8080/"
        },
        "id": "0s2K-TuX2gg4",
        "outputId": "a80949c3-dfe1-47cc-85d8-b87a84df9ccb"
      },
      "execution_count": 10,
      "outputs": [
        {
          "output_type": "stream",
          "name": "stdout",
          "text": [
            "Found 2000 images belonging to 2 classes.\n"
          ]
        }
      ]
    },
    {
      "cell_type": "markdown",
      "source": [
        "## building CNN"
      ],
      "metadata": {
        "id": "qZWOOs1K5MA4"
      }
    },
    {
      "cell_type": "code",
      "source": [
        "## initializing CNN"
      ],
      "metadata": {
        "id": "UNR4V9Rd2gjt"
      },
      "execution_count": 11,
      "outputs": []
    },
    {
      "cell_type": "code",
      "source": [
        "cnn = tf.keras.models.Sequential()"
      ],
      "metadata": {
        "id": "9TsCzHFm2gmV"
      },
      "execution_count": 12,
      "outputs": []
    },
    {
      "cell_type": "code",
      "source": [
        "## first layer - convolutional layer"
      ],
      "metadata": {
        "id": "AQIHgVQE2gp4"
      },
      "execution_count": 13,
      "outputs": []
    },
    {
      "cell_type": "code",
      "source": [
        "cnn.add(tf.keras.layers.Conv2D(filters=(32), kernel_size=(3,3) ,\n",
        "                               activation='relu',\n",
        "                               input_shape=(64,64,3) ) )"
      ],
      "metadata": {
        "id": "20vGo8m75z29"
      },
      "execution_count": 14,
      "outputs": []
    },
    {
      "cell_type": "code",
      "source": [
        "## second layer - pooling (max pooling)"
      ],
      "metadata": {
        "id": "Afjz8YPK5z6R"
      },
      "execution_count": 15,
      "outputs": []
    },
    {
      "cell_type": "code",
      "source": [
        "cnn.add( tf.keras.layers.MaxPooling2D(pool_size=(2,2) ,strides=2 ) )"
      ],
      "metadata": {
        "id": "RxL8Kmq77iT6"
      },
      "execution_count": 16,
      "outputs": []
    },
    {
      "cell_type": "code",
      "source": [
        "## second layer - convolutional layer"
      ],
      "metadata": {
        "id": "M5yeaN7Z7iWl"
      },
      "execution_count": 17,
      "outputs": []
    },
    {
      "cell_type": "code",
      "source": [
        "cnn.add(tf.keras.layers.Conv2D(filters=(32), kernel_size=(3,3) ,\n",
        "                               activation='relu' ) )\n",
        "\n",
        "cnn.add( tf.keras.layers.MaxPooling2D(pool_size=(2,2) ,strides=2 ) )"
      ],
      "metadata": {
        "id": "6QIjo5io7iaS"
      },
      "execution_count": 18,
      "outputs": []
    },
    {
      "cell_type": "code",
      "source": [
        "## third layer - flattening"
      ],
      "metadata": {
        "id": "5flpjh-39BAx"
      },
      "execution_count": 19,
      "outputs": []
    },
    {
      "cell_type": "code",
      "source": [
        "cnn.add( tf.keras.layers.Flatten())"
      ],
      "metadata": {
        "id": "gleO8xQY9BEW"
      },
      "execution_count": 20,
      "outputs": []
    },
    {
      "cell_type": "code",
      "source": [
        "## fourth layer - full connection"
      ],
      "metadata": {
        "id": "86rJHArd9DkE"
      },
      "execution_count": 21,
      "outputs": []
    },
    {
      "cell_type": "code",
      "source": [
        "cnn.add( tf.keras.layers.Dense( units=128, activation='relu' ) )"
      ],
      "metadata": {
        "id": "_QAMl7J79Dmr"
      },
      "execution_count": 22,
      "outputs": []
    },
    {
      "cell_type": "code",
      "source": [
        "## fifth layer - output layer"
      ],
      "metadata": {
        "id": "9Sshc5un9DqM"
      },
      "execution_count": 23,
      "outputs": []
    },
    {
      "cell_type": "code",
      "source": [
        "cnn.add( tf.keras.layers.Dense( units=1, activation='sigmoid' ) )"
      ],
      "metadata": {
        "id": "UHNReWEn-ANb"
      },
      "execution_count": 24,
      "outputs": []
    },
    {
      "cell_type": "markdown",
      "source": [
        "## training CNN"
      ],
      "metadata": {
        "id": "OMtEZFGs-XaX"
      }
    },
    {
      "cell_type": "code",
      "source": [
        "#compiling the cnn"
      ],
      "metadata": {
        "id": "bX3Dp9-k-APz"
      },
      "execution_count": 26,
      "outputs": []
    },
    {
      "cell_type": "code",
      "source": [
        "cnn.compile(optimizer='adam', loss='binary_crossentropy',metrics=['accuracy'])"
      ],
      "metadata": {
        "id": "dvB8ftij-ASg"
      },
      "execution_count": 27,
      "outputs": []
    },
    {
      "cell_type": "code",
      "source": [
        "cnn.fit(x= training_set, validation_data=test_set,  epochs=25 )"
      ],
      "metadata": {
        "colab": {
          "base_uri": "https://localhost:8080/"
        },
        "id": "CI48cGzT-AV8",
        "outputId": "374766a7-831d-40f6-e415-4d62b1e07516"
      },
      "execution_count": 28,
      "outputs": [
        {
          "output_type": "stream",
          "name": "stdout",
          "text": [
            "Epoch 1/25\n",
            "251/251 [==============================] - 2593s 10s/step - loss: 0.6651 - accuracy: 0.5984 - val_loss: 0.6060 - val_accuracy: 0.6710\n",
            "Epoch 2/25\n",
            "251/251 [==============================] - 75s 300ms/step - loss: 0.5980 - accuracy: 0.6748 - val_loss: 0.5700 - val_accuracy: 0.7105\n",
            "Epoch 3/25\n",
            "251/251 [==============================] - 77s 308ms/step - loss: 0.5511 - accuracy: 0.7107 - val_loss: 0.5918 - val_accuracy: 0.6890\n",
            "Epoch 4/25\n",
            "251/251 [==============================] - 78s 312ms/step - loss: 0.5329 - accuracy: 0.7244 - val_loss: 0.5342 - val_accuracy: 0.7275\n",
            "Epoch 5/25\n",
            "251/251 [==============================] - 78s 311ms/step - loss: 0.5124 - accuracy: 0.7475 - val_loss: 0.5019 - val_accuracy: 0.7610\n",
            "Epoch 6/25\n",
            "251/251 [==============================] - 78s 313ms/step - loss: 0.4752 - accuracy: 0.7670 - val_loss: 0.5394 - val_accuracy: 0.7560\n",
            "Epoch 7/25\n",
            "251/251 [==============================] - 77s 306ms/step - loss: 0.4626 - accuracy: 0.7769 - val_loss: 0.5098 - val_accuracy: 0.7580\n",
            "Epoch 8/25\n",
            "251/251 [==============================] - 77s 308ms/step - loss: 0.4602 - accuracy: 0.7769 - val_loss: 0.4806 - val_accuracy: 0.7785\n",
            "Epoch 9/25\n",
            "251/251 [==============================] - 78s 309ms/step - loss: 0.4416 - accuracy: 0.7889 - val_loss: 0.4786 - val_accuracy: 0.7730\n",
            "Epoch 10/25\n",
            "251/251 [==============================] - 78s 310ms/step - loss: 0.4285 - accuracy: 0.7948 - val_loss: 0.4713 - val_accuracy: 0.7875\n",
            "Epoch 11/25\n",
            "251/251 [==============================] - 77s 308ms/step - loss: 0.4080 - accuracy: 0.8127 - val_loss: 0.4620 - val_accuracy: 0.7980\n",
            "Epoch 12/25\n",
            "251/251 [==============================] - 77s 306ms/step - loss: 0.4013 - accuracy: 0.8138 - val_loss: 0.4574 - val_accuracy: 0.7910\n",
            "Epoch 13/25\n",
            "251/251 [==============================] - 80s 317ms/step - loss: 0.3876 - accuracy: 0.8201 - val_loss: 0.4665 - val_accuracy: 0.7845\n",
            "Epoch 14/25\n",
            "251/251 [==============================] - 77s 306ms/step - loss: 0.3766 - accuracy: 0.8261 - val_loss: 0.4632 - val_accuracy: 0.7940\n",
            "Epoch 15/25\n",
            "251/251 [==============================] - 77s 309ms/step - loss: 0.3594 - accuracy: 0.8409 - val_loss: 0.4602 - val_accuracy: 0.8005\n",
            "Epoch 16/25\n",
            "251/251 [==============================] - 77s 308ms/step - loss: 0.3596 - accuracy: 0.8403 - val_loss: 0.4825 - val_accuracy: 0.7980\n",
            "Epoch 17/25\n",
            "251/251 [==============================] - 79s 314ms/step - loss: 0.3465 - accuracy: 0.8480 - val_loss: 0.4843 - val_accuracy: 0.7850\n",
            "Epoch 18/25\n",
            "251/251 [==============================] - 76s 300ms/step - loss: 0.3308 - accuracy: 0.8577 - val_loss: 0.4653 - val_accuracy: 0.7955\n",
            "Epoch 19/25\n",
            "251/251 [==============================] - 79s 314ms/step - loss: 0.3199 - accuracy: 0.8605 - val_loss: 0.4743 - val_accuracy: 0.8030\n",
            "Epoch 20/25\n",
            "251/251 [==============================] - 75s 299ms/step - loss: 0.2957 - accuracy: 0.8749 - val_loss: 0.4545 - val_accuracy: 0.8035\n",
            "Epoch 21/25\n",
            "251/251 [==============================] - 76s 301ms/step - loss: 0.2893 - accuracy: 0.8776 - val_loss: 0.4737 - val_accuracy: 0.7925\n",
            "Epoch 22/25\n",
            "251/251 [==============================] - 77s 307ms/step - loss: 0.2741 - accuracy: 0.8800 - val_loss: 0.4878 - val_accuracy: 0.8005\n",
            "Epoch 23/25\n",
            "251/251 [==============================] - 77s 306ms/step - loss: 0.2596 - accuracy: 0.8913 - val_loss: 0.4872 - val_accuracy: 0.8120\n",
            "Epoch 24/25\n",
            "251/251 [==============================] - 77s 307ms/step - loss: 0.2491 - accuracy: 0.8961 - val_loss: 0.5039 - val_accuracy: 0.8070\n",
            "Epoch 25/25\n",
            "251/251 [==============================] - 78s 309ms/step - loss: 0.2488 - accuracy: 0.8976 - val_loss: 0.5395 - val_accuracy: 0.7835\n"
          ]
        },
        {
          "output_type": "execute_result",
          "data": {
            "text/plain": [
              "<keras.src.callbacks.History at 0x7c4b76f34820>"
            ]
          },
          "metadata": {},
          "execution_count": 28
        }
      ]
    },
    {
      "cell_type": "code",
      "source": [
        "## prediction"
      ],
      "metadata": {
        "id": "RefIWL-X_NXJ"
      },
      "execution_count": 29,
      "outputs": []
    },
    {
      "cell_type": "code",
      "source": [
        "test_img = image.load_img(\"/content/cat_or_dog_1.jpg\", target_size=(64,64))\n",
        "\n",
        "test_img = image.img_to_array(test_img)\n",
        "\n",
        "test_img = np.expand_dims(test_img,axis=0)\n",
        "\n",
        "result = cnn.predict(test_img)\n",
        "\n",
        "if result[0][0] == 1:\n",
        "  preds = \"dog\"\n",
        "  print(preds)\n",
        "\n",
        "else:\n",
        "  preds = \"cat\"\n",
        "  print(preds)"
      ],
      "metadata": {
        "colab": {
          "base_uri": "https://localhost:8080/"
        },
        "id": "YWZIJaSv_Naf",
        "outputId": "c54a6cb8-b5df-4dd7-a799-da0912c4260f"
      },
      "execution_count": 36,
      "outputs": [
        {
          "output_type": "stream",
          "name": "stdout",
          "text": [
            "1/1 [==============================] - 0s 70ms/step\n",
            "dog\n"
          ]
        }
      ]
    },
    {
      "cell_type": "code",
      "source": [],
      "metadata": {
        "id": "VxY8SeNARp3n"
      },
      "execution_count": null,
      "outputs": []
    },
    {
      "cell_type": "code",
      "source": [],
      "metadata": {
        "id": "jMRI11_fRp7I"
      },
      "execution_count": null,
      "outputs": []
    }
  ]
}