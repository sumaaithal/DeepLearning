{
  "nbformat": 4,
  "nbformat_minor": 0,
  "metadata": {
    "colab": {
      "provenance": [],
      "authorship_tag": "ABX9TyOa/VbDJUmuaF+tA8K+2HN3",
      "include_colab_link": true
    },
    "kernelspec": {
      "name": "python3",
      "display_name": "Python 3"
    },
    "language_info": {
      "name": "python"
    }
  },
  "cells": [
    {
      "cell_type": "markdown",
      "metadata": {
        "id": "view-in-github",
        "colab_type": "text"
      },
      "source": [
        "<a href=\"https://colab.research.google.com/github/sumaaithal/DeepLearning/blob/main/Google_stock_price_RNN.ipynb\" target=\"_parent\"><img src=\"https://colab.research.google.com/assets/colab-badge.svg\" alt=\"Open In Colab\"/></a>"
      ]
    },
    {
      "cell_type": "markdown",
      "source": [
        "### import libraries"
      ],
      "metadata": {
        "id": "NFMsuH1hu_cI"
      }
    },
    {
      "cell_type": "code",
      "execution_count": 1,
      "metadata": {
        "id": "WE0dCwL0uv7q"
      },
      "outputs": [],
      "source": [
        "import pandas as pd\n",
        "import numpy as np\n",
        "import matplotlib.pyplot as plt\n",
        "from sklearn.preprocessing import MinMaxScaler\n",
        "from keras.models import Sequential\n",
        "from keras.layers import Dense\n",
        "from keras.layers import LSTM\n",
        "from keras.layers import Dropout"
      ]
    },
    {
      "cell_type": "markdown",
      "source": [
        "## preprocessing"
      ],
      "metadata": {
        "id": "0deD07rnwYvn"
      }
    },
    {
      "cell_type": "code",
      "source": [
        "train_df = pd.read_csv(\"/content/Google_Stock_Price_Train.csv\")"
      ],
      "metadata": {
        "id": "P8Ai9qgpvFZC"
      },
      "execution_count": 2,
      "outputs": []
    },
    {
      "cell_type": "code",
      "source": [
        "training_set = train_df.iloc[:,1:2].values"
      ],
      "metadata": {
        "id": "MoWjYxwJvFcd"
      },
      "execution_count": 3,
      "outputs": []
    },
    {
      "cell_type": "code",
      "source": [
        "#normalization\n",
        "sc = MinMaxScaler(feature_range=(0,1))\n",
        "scaled_training_set = sc.fit_transform(training_set)\n",
        "scaled_training_set[:3]"
      ],
      "metadata": {
        "colab": {
          "base_uri": "https://localhost:8080/"
        },
        "id": "m2BaA9c5vFkv",
        "outputId": "912e143c-65e2-42e3-94a2-919021c53a69"
      },
      "execution_count": 4,
      "outputs": [
        {
          "output_type": "execute_result",
          "data": {
            "text/plain": [
              "array([[0.08581368],\n",
              "       [0.09701243],\n",
              "       [0.09433366]])"
            ]
          },
          "metadata": {},
          "execution_count": 4
        }
      ]
    },
    {
      "cell_type": "code",
      "source": [
        "##creating 60 times steps(60 past steps) and 1 output\n",
        "X_train = []\n",
        "y_train = []\n",
        "\n",
        "for i in range(60,1258):\n",
        "  X_train.append(scaled_training_set[i-60:i,0])\n",
        "  y_train.append(scaled_training_set[i,0])\n",
        "\n",
        "X_train,y_train = np.array(X_train),np.array(y_train)"
      ],
      "metadata": {
        "id": "pHe8_KIRvFnM"
      },
      "execution_count": 5,
      "outputs": []
    },
    {
      "cell_type": "code",
      "source": [
        "X_train,y_train"
      ],
      "metadata": {
        "colab": {
          "base_uri": "https://localhost:8080/"
        },
        "id": "ezJf66O6vFpw",
        "outputId": "99711053-5750-4872-a090-1162c638c8d8"
      },
      "execution_count": 6,
      "outputs": [
        {
          "output_type": "execute_result",
          "data": {
            "text/plain": [
              "(array([[0.08581368, 0.09701243, 0.09433366, ..., 0.07846566, 0.08034452,\n",
              "         0.08497656],\n",
              "        [0.09701243, 0.09433366, 0.09156187, ..., 0.08034452, 0.08497656,\n",
              "         0.08627874],\n",
              "        [0.09433366, 0.09156187, 0.07984225, ..., 0.08497656, 0.08627874,\n",
              "         0.08471612],\n",
              "        ...,\n",
              "        [0.92106928, 0.92438053, 0.93048218, ..., 0.95475854, 0.95204256,\n",
              "         0.95163331],\n",
              "        [0.92438053, 0.93048218, 0.9299055 , ..., 0.95204256, 0.95163331,\n",
              "         0.95725128],\n",
              "        [0.93048218, 0.9299055 , 0.93113327, ..., 0.95163331, 0.95725128,\n",
              "         0.93796041]]),\n",
              " array([0.08627874, 0.08471612, 0.07454052, ..., 0.95725128, 0.93796041,\n",
              "        0.93688146]))"
            ]
          },
          "metadata": {},
          "execution_count": 6
        }
      ]
    },
    {
      "cell_type": "code",
      "source": [
        "## add new dimention\n",
        "X_train = np.reshape(X_train, (X_train.shape[0],X_train.shape[1],1))"
      ],
      "metadata": {
        "id": "c0-XZX21vFsE"
      },
      "execution_count": 7,
      "outputs": []
    },
    {
      "cell_type": "markdown",
      "source": [
        "## building RNN"
      ],
      "metadata": {
        "id": "OeukY7Sq-jJO"
      }
    },
    {
      "cell_type": "code",
      "source": [
        "## note : drop out regularization to avoid overfitting"
      ],
      "metadata": {
        "id": "kPCrChv8_Vm8"
      },
      "execution_count": 8,
      "outputs": []
    },
    {
      "cell_type": "code",
      "source": [
        "#initialize the rnn\n",
        "regressor = Sequential()"
      ],
      "metadata": {
        "id": "WREAC2b8vFvm"
      },
      "execution_count": 9,
      "outputs": []
    },
    {
      "cell_type": "code",
      "source": [
        "## adding our first lstm model\n",
        "regressor.add( LSTM( units=50, return_sequences= True, input_shape=(X_train.shape[1],1) ) )\n",
        "regressor.add( Dropout(rate=0.2) )"
      ],
      "metadata": {
        "id": "2QV3yot5-lwD"
      },
      "execution_count": 10,
      "outputs": []
    },
    {
      "cell_type": "code",
      "source": [
        "## add 2nd lstm layer\n",
        "regressor.add( LSTM( units=50, return_sequences= True) )\n",
        "regressor.add( Dropout(rate=0.2) )"
      ],
      "metadata": {
        "id": "Nl4EMemn-l2A"
      },
      "execution_count": 11,
      "outputs": []
    },
    {
      "cell_type": "code",
      "source": [
        "## add 3rd lstm layer\n",
        "regressor.add( LSTM( units=50, return_sequences= True) )\n",
        "regressor.add( Dropout(rate=0.2) )"
      ],
      "metadata": {
        "id": "L_xa-GQ9-l5c"
      },
      "execution_count": 12,
      "outputs": []
    },
    {
      "cell_type": "code",
      "source": [
        "## add 4th lstm layer\n",
        "regressor.add( LSTM( units=50, return_sequences= False) )\n",
        "regressor.add( Dropout(rate=0.2) )"
      ],
      "metadata": {
        "id": "51JIOrUSEJK6"
      },
      "execution_count": 13,
      "outputs": []
    },
    {
      "cell_type": "code",
      "source": [
        "## add output layer\n",
        "regressor.add( Dense(units=1) )"
      ],
      "metadata": {
        "id": "b42ugvjYEJOV"
      },
      "execution_count": 14,
      "outputs": []
    },
    {
      "cell_type": "code",
      "source": [
        "## compiling the RNN\n",
        "regressor.compile(optimizer='adam',loss='mean_squared_error')"
      ],
      "metadata": {
        "id": "lchzT58jElAk"
      },
      "execution_count": 15,
      "outputs": []
    },
    {
      "cell_type": "code",
      "source": [
        "## fit the training data to a model\n",
        "regressor.fit(X_train,y_train, epochs=100, batch_size=32 )"
      ],
      "metadata": {
        "colab": {
          "base_uri": "https://localhost:8080/"
        },
        "id": "6Gn_IUkrElDQ",
        "outputId": "3ecf9446-957e-4533-d7fb-e7c5c4ed6da2"
      },
      "execution_count": 16,
      "outputs": [
        {
          "output_type": "stream",
          "name": "stdout",
          "text": [
            "Epoch 1/100\n",
            "38/38 [==============================] - 17s 162ms/step - loss: 0.0282\n",
            "Epoch 2/100\n",
            "38/38 [==============================] - 5s 142ms/step - loss: 0.0059\n",
            "Epoch 3/100\n",
            "38/38 [==============================] - 6s 143ms/step - loss: 0.0052\n",
            "Epoch 4/100\n",
            "38/38 [==============================] - 6s 150ms/step - loss: 0.0059\n",
            "Epoch 5/100\n",
            "38/38 [==============================] - 5s 133ms/step - loss: 0.0055\n",
            "Epoch 6/100\n",
            "38/38 [==============================] - 6s 161ms/step - loss: 0.0052\n",
            "Epoch 7/100\n",
            "38/38 [==============================] - 5s 132ms/step - loss: 0.0045\n",
            "Epoch 8/100\n",
            "38/38 [==============================] - 6s 156ms/step - loss: 0.0044\n",
            "Epoch 9/100\n",
            "38/38 [==============================] - 6s 146ms/step - loss: 0.0046\n",
            "Epoch 10/100\n",
            "38/38 [==============================] - 5s 135ms/step - loss: 0.0042\n",
            "Epoch 11/100\n",
            "38/38 [==============================] - 6s 151ms/step - loss: 0.0044\n",
            "Epoch 12/100\n",
            "38/38 [==============================] - 5s 129ms/step - loss: 0.0044\n",
            "Epoch 13/100\n",
            "38/38 [==============================] - 6s 156ms/step - loss: 0.0044\n",
            "Epoch 14/100\n",
            "38/38 [==============================] - 5s 126ms/step - loss: 0.0041\n",
            "Epoch 15/100\n",
            "38/38 [==============================] - 6s 150ms/step - loss: 0.0041\n",
            "Epoch 16/100\n",
            "38/38 [==============================] - 6s 144ms/step - loss: 0.0037\n",
            "Epoch 17/100\n",
            "38/38 [==============================] - 5s 129ms/step - loss: 0.0043\n",
            "Epoch 18/100\n",
            "38/38 [==============================] - 6s 164ms/step - loss: 0.0034\n",
            "Epoch 19/100\n",
            "38/38 [==============================] - 5s 131ms/step - loss: 0.0034\n",
            "Epoch 20/100\n",
            "38/38 [==============================] - 6s 157ms/step - loss: 0.0035\n",
            "Epoch 21/100\n",
            "38/38 [==============================] - 5s 129ms/step - loss: 0.0032\n",
            "Epoch 22/100\n",
            "38/38 [==============================] - 5s 130ms/step - loss: 0.0036\n",
            "Epoch 23/100\n",
            "38/38 [==============================] - 6s 157ms/step - loss: 0.0034\n",
            "Epoch 24/100\n",
            "38/38 [==============================] - 5s 123ms/step - loss: 0.0036\n",
            "Epoch 25/100\n",
            "38/38 [==============================] - 6s 159ms/step - loss: 0.0034\n",
            "Epoch 26/100\n",
            "38/38 [==============================] - 5s 131ms/step - loss: 0.0030\n",
            "Epoch 27/100\n",
            "38/38 [==============================] - 5s 144ms/step - loss: 0.0031\n",
            "Epoch 28/100\n",
            "38/38 [==============================] - 6s 146ms/step - loss: 0.0029\n",
            "Epoch 29/100\n",
            "38/38 [==============================] - 5s 133ms/step - loss: 0.0034\n",
            "Epoch 30/100\n",
            "38/38 [==============================] - 6s 163ms/step - loss: 0.0028\n",
            "Epoch 31/100\n",
            "38/38 [==============================] - 5s 130ms/step - loss: 0.0029\n",
            "Epoch 32/100\n",
            "38/38 [==============================] - 6s 160ms/step - loss: 0.0029\n",
            "Epoch 33/100\n",
            "38/38 [==============================] - 5s 132ms/step - loss: 0.0030\n",
            "Epoch 34/100\n",
            "38/38 [==============================] - 5s 143ms/step - loss: 0.0027\n",
            "Epoch 35/100\n",
            "38/38 [==============================] - 6s 151ms/step - loss: 0.0028\n",
            "Epoch 36/100\n",
            "38/38 [==============================] - 5s 128ms/step - loss: 0.0027\n",
            "Epoch 37/100\n",
            "38/38 [==============================] - 6s 160ms/step - loss: 0.0026\n",
            "Epoch 38/100\n",
            "38/38 [==============================] - 5s 132ms/step - loss: 0.0025\n",
            "Epoch 39/100\n",
            "38/38 [==============================] - 6s 149ms/step - loss: 0.0026\n",
            "Epoch 40/100\n",
            "38/38 [==============================] - 5s 139ms/step - loss: 0.0025\n",
            "Epoch 41/100\n",
            "38/38 [==============================] - 5s 129ms/step - loss: 0.0025\n",
            "Epoch 42/100\n",
            "38/38 [==============================] - 6s 164ms/step - loss: 0.0025\n",
            "Epoch 43/100\n",
            "38/38 [==============================] - 5s 129ms/step - loss: 0.0030\n",
            "Epoch 44/100\n",
            "38/38 [==============================] - 6s 162ms/step - loss: 0.0025\n",
            "Epoch 45/100\n",
            "38/38 [==============================] - 5s 129ms/step - loss: 0.0026\n",
            "Epoch 46/100\n",
            "38/38 [==============================] - 5s 143ms/step - loss: 0.0025\n",
            "Epoch 47/100\n",
            "38/38 [==============================] - 6s 150ms/step - loss: 0.0023\n",
            "Epoch 48/100\n",
            "38/38 [==============================] - 5s 133ms/step - loss: 0.0026\n",
            "Epoch 49/100\n",
            "38/38 [==============================] - 6s 161ms/step - loss: 0.0024\n",
            "Epoch 50/100\n",
            "38/38 [==============================] - 5s 132ms/step - loss: 0.0024\n",
            "Epoch 51/100\n",
            "38/38 [==============================] - 6s 161ms/step - loss: 0.0022\n",
            "Epoch 52/100\n",
            "38/38 [==============================] - 5s 134ms/step - loss: 0.0023\n",
            "Epoch 53/100\n",
            "38/38 [==============================] - 5s 132ms/step - loss: 0.0023\n",
            "Epoch 54/100\n",
            "38/38 [==============================] - 6s 158ms/step - loss: 0.0023\n",
            "Epoch 55/100\n",
            "38/38 [==============================] - 5s 133ms/step - loss: 0.0022\n",
            "Epoch 56/100\n",
            "38/38 [==============================] - 6s 162ms/step - loss: 0.0023\n",
            "Epoch 57/100\n",
            "38/38 [==============================] - 5s 131ms/step - loss: 0.0021\n",
            "Epoch 58/100\n",
            "38/38 [==============================] - 6s 151ms/step - loss: 0.0023\n",
            "Epoch 59/100\n",
            "38/38 [==============================] - 5s 141ms/step - loss: 0.0021\n",
            "Epoch 60/100\n",
            "38/38 [==============================] - 5s 129ms/step - loss: 0.0020\n",
            "Epoch 61/100\n",
            "38/38 [==============================] - 6s 164ms/step - loss: 0.0021\n",
            "Epoch 62/100\n",
            "38/38 [==============================] - 5s 134ms/step - loss: 0.0020\n",
            "Epoch 63/100\n",
            "38/38 [==============================] - 6s 164ms/step - loss: 0.0020\n",
            "Epoch 64/100\n",
            "38/38 [==============================] - 5s 132ms/step - loss: 0.0021\n",
            "Epoch 65/100\n",
            "38/38 [==============================] - 5s 143ms/step - loss: 0.0019\n",
            "Epoch 66/100\n",
            "38/38 [==============================] - 5s 142ms/step - loss: 0.0018\n",
            "Epoch 67/100\n",
            "38/38 [==============================] - 5s 136ms/step - loss: 0.0022\n",
            "Epoch 68/100\n",
            "38/38 [==============================] - 6s 162ms/step - loss: 0.0018\n",
            "Epoch 69/100\n",
            "38/38 [==============================] - 5s 130ms/step - loss: 0.0019\n",
            "Epoch 70/100\n",
            "38/38 [==============================] - 6s 163ms/step - loss: 0.0017\n",
            "Epoch 71/100\n",
            "38/38 [==============================] - 5s 135ms/step - loss: 0.0019\n",
            "Epoch 72/100\n",
            "38/38 [==============================] - 5s 135ms/step - loss: 0.0017\n",
            "Epoch 73/100\n",
            "38/38 [==============================] - 6s 151ms/step - loss: 0.0021\n",
            "Epoch 74/100\n",
            "38/38 [==============================] - 5s 128ms/step - loss: 0.0020\n",
            "Epoch 75/100\n",
            "38/38 [==============================] - 6s 163ms/step - loss: 0.0018\n",
            "Epoch 76/100\n",
            "38/38 [==============================] - 5s 135ms/step - loss: 0.0018\n",
            "Epoch 77/100\n",
            "38/38 [==============================] - 6s 156ms/step - loss: 0.0018\n",
            "Epoch 78/100\n",
            "38/38 [==============================] - 5s 136ms/step - loss: 0.0017\n",
            "Epoch 79/100\n",
            "38/38 [==============================] - 5s 128ms/step - loss: 0.0018\n",
            "Epoch 80/100\n",
            "38/38 [==============================] - 6s 160ms/step - loss: 0.0017\n",
            "Epoch 81/100\n",
            "38/38 [==============================] - 5s 132ms/step - loss: 0.0016\n",
            "Epoch 82/100\n",
            "38/38 [==============================] - 6s 161ms/step - loss: 0.0016\n",
            "Epoch 83/100\n",
            "38/38 [==============================] - 5s 130ms/step - loss: 0.0017\n",
            "Epoch 84/100\n",
            "38/38 [==============================] - 5s 139ms/step - loss: 0.0015\n",
            "Epoch 85/100\n",
            "38/38 [==============================] - 6s 151ms/step - loss: 0.0017\n",
            "Epoch 86/100\n",
            "38/38 [==============================] - 5s 135ms/step - loss: 0.0016\n",
            "Epoch 87/100\n",
            "38/38 [==============================] - 6s 162ms/step - loss: 0.0016\n",
            "Epoch 88/100\n",
            "38/38 [==============================] - 5s 127ms/step - loss: 0.0017\n",
            "Epoch 89/100\n",
            "38/38 [==============================] - 6s 166ms/step - loss: 0.0018\n",
            "Epoch 90/100\n",
            "38/38 [==============================] - 5s 133ms/step - loss: 0.0014\n",
            "Epoch 91/100\n",
            "38/38 [==============================] - 5s 135ms/step - loss: 0.0015\n",
            "Epoch 92/100\n",
            "38/38 [==============================] - 6s 158ms/step - loss: 0.0015\n",
            "Epoch 93/100\n",
            "38/38 [==============================] - 5s 133ms/step - loss: 0.0015\n",
            "Epoch 94/100\n",
            "38/38 [==============================] - 6s 160ms/step - loss: 0.0016\n",
            "Epoch 95/100\n",
            "38/38 [==============================] - 5s 133ms/step - loss: 0.0015\n",
            "Epoch 96/100\n",
            "38/38 [==============================] - 6s 157ms/step - loss: 0.0014\n",
            "Epoch 97/100\n",
            "38/38 [==============================] - 5s 135ms/step - loss: 0.0018\n",
            "Epoch 98/100\n",
            "38/38 [==============================] - 5s 131ms/step - loss: 0.0018\n",
            "Epoch 99/100\n",
            "38/38 [==============================] - 6s 159ms/step - loss: 0.0015\n",
            "Epoch 100/100\n",
            "38/38 [==============================] - 5s 133ms/step - loss: 0.0015\n"
          ]
        },
        {
          "output_type": "execute_result",
          "data": {
            "text/plain": [
              "<keras.src.callbacks.History at 0x7930466d8b80>"
            ]
          },
          "metadata": {},
          "execution_count": 16
        }
      ]
    },
    {
      "cell_type": "code",
      "source": [
        "## get the actual stock price of 2017\n",
        "test_df = pd.read_csv(\"/content/Google_Stock_Price_Test.csv\")\n",
        "test_set = test_df.iloc[:,1:2].values"
      ],
      "metadata": {
        "id": "wDtgc1ubElG2"
      },
      "execution_count": 18,
      "outputs": []
    },
    {
      "cell_type": "code",
      "source": [
        "## get the predicted stock price of 2017\n",
        "dataset_total = pd.concat((train_df['Open'], test_df['Open']) , axis=0)"
      ],
      "metadata": {
        "id": "vg4sh7dHI4AO"
      },
      "execution_count": 28,
      "outputs": []
    },
    {
      "cell_type": "code",
      "source": [
        "inputs = dataset_total[len(dataset_total) - len(test_df) - 60 : ].values"
      ],
      "metadata": {
        "id": "elbLc-bVX5O9"
      },
      "execution_count": 29,
      "outputs": []
    },
    {
      "cell_type": "code",
      "source": [
        "inputs = inputs.reshape(-1,1)"
      ],
      "metadata": {
        "id": "s-IOH70FZZsT"
      },
      "execution_count": 31,
      "outputs": []
    },
    {
      "cell_type": "code",
      "source": [
        "inputs = sc.transform(inputs)"
      ],
      "metadata": {
        "id": "pnw3a97jaBwf"
      },
      "execution_count": 32,
      "outputs": []
    },
    {
      "cell_type": "code",
      "source": [
        "##creating 60 times steps(60 past steps) and 1 output\n",
        "X_test = []\n",
        "\n",
        "for i in range(60,80):\n",
        "  X_test.append(inputs[i-60:i,0])\n",
        "\n",
        "X_test = np.array(X_test)"
      ],
      "metadata": {
        "id": "b1Jl2j37aYT8"
      },
      "execution_count": 33,
      "outputs": []
    },
    {
      "cell_type": "code",
      "source": [
        "## add new dimention\n",
        "X_test = np.reshape(X_test, (X_test.shape[0],X_test.shape[1],1))"
      ],
      "metadata": {
        "id": "ExxTJZ50aYXd"
      },
      "execution_count": 34,
      "outputs": []
    },
    {
      "cell_type": "code",
      "source": [
        "y_pred = regressor.predict(X_test) #scaled values"
      ],
      "metadata": {
        "colab": {
          "base_uri": "https://localhost:8080/"
        },
        "id": "ZJsN4Vh-bdTA",
        "outputId": "004840d1-0860-4f56-f62d-7e9f9fc688e6"
      },
      "execution_count": 35,
      "outputs": [
        {
          "output_type": "stream",
          "name": "stdout",
          "text": [
            "1/1 [==============================] - 2s 2s/step\n"
          ]
        }
      ]
    },
    {
      "cell_type": "code",
      "source": [
        "## get the original value using inverse transform method\n",
        "y_pred = sc.inverse_transform(y_pred)"
      ],
      "metadata": {
        "id": "95dSvMm8bdey"
      },
      "execution_count": 37,
      "outputs": []
    },
    {
      "cell_type": "code",
      "source": [
        "#visualizing the final prediction\n",
        "plt.plot(test_set, color='red',label='real google stock price')\n",
        "plt.plot(y_pred, color='blue',label='predicted google stock price')\n",
        "plt.title(\"real vs predicted google stock price\")\n",
        "\n",
        "plt.xlabel(\"time\")\n",
        "plt.ylabel(\"stock\")\n",
        "plt.legend()\n",
        "plt.show()"
      ],
      "metadata": {
        "colab": {
          "base_uri": "https://localhost:8080/",
          "height": 472
        },
        "id": "FOtCoNazbv3X",
        "outputId": "368118c2-88bf-4966-e63f-906e1c925955"
      },
      "execution_count": 39,
      "outputs": [
        {
          "output_type": "display_data",
          "data": {
            "text/plain": [
              "<Figure size 640x480 with 1 Axes>"
            ],
            "image/png": "[encoded data removed]"
          },
          "metadata": {}
        }
      ]
    },
    {
      "cell_type": "code",
      "source": [],
      "metadata": {
        "id": "KI7yHpdLbv50"
      },
      "execution_count": null,
      "outputs": []
    },
    {
      "cell_type": "code",
      "source": [],
      "metadata": {
        "id": "LS_DRc8bbv9Y"
      },
      "execution_count": null,
      "outputs": []
    }
  ]
}