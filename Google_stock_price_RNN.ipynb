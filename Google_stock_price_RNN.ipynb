{
  "nbformat": 4,
  "nbformat_minor": 0,
  "metadata": {
    "colab": {
      "provenance": [],
      "authorship_tag": "ABX9TyOVinKC34Ah1z5/6C7xAhlw",
      "include_colab_link": true
    },
    "kernelspec": {
      "name": "python3",
      "display_name": "Python 3"
    },
    "language_info": {
      "name": "python"
    }
  },
  "cells": [
    {
      "cell_type": "markdown",
      "metadata": {
        "id": "view-in-github",
        "colab_type": "text"
      },
      "source": [
        "<a href=\"https://colab.research.google.com/github/sumaaithal/DeepLearning/blob/main/Google_stock_price_RNN.ipynb\" target=\"_parent\"><img src=\"https://colab.research.google.com/assets/colab-badge.svg\" alt=\"Open In Colab\"/></a>"
      ]
    },
    {
      "cell_type": "markdown",
      "source": [
        "### import libraries"
      ],
      "metadata": {
        "id": "NFMsuH1hu_cI"
      }
    },
    {
      "cell_type": "code",
      "execution_count": 12,
      "metadata": {
        "id": "WE0dCwL0uv7q"
      },
      "outputs": [],
      "source": [
        "import pandas as pd\n",
        "import numpy as np\n",
        "import matplotlib.pyplot as plt\n",
        "from sklearn.preprocessing import MinMaxScaler\n",
        "from keras.models import Sequential\n",
        "from keras.layers import Dense\n",
        "from keras.layers import LSTM\n",
        "from keras.layers import Dropout"
      ]
    },
    {
      "cell_type": "markdown",
      "source": [
        "## preprocessing"
      ],
      "metadata": {
        "id": "0deD07rnwYvn"
      }
    },
    {
      "cell_type": "code",
      "source": [
        "train_df = pd.read_csv(\"/content/Google_Stock_Price_Train.csv\")"
      ],
      "metadata": {
        "id": "P8Ai9qgpvFZC"
      },
      "execution_count": 2,
      "outputs": []
    },
    {
      "cell_type": "code",
      "source": [
        "training_set = train_df.iloc[:,1:2].values"
      ],
      "metadata": {
        "id": "MoWjYxwJvFcd"
      },
      "execution_count": 4,
      "outputs": []
    },
    {
      "cell_type": "code",
      "source": [
        "#normalization\n",
        "sc = MinMaxScaler(feature_range=(0,1))\n",
        "scaled_training_set = sc.fit_transform(training_set)\n",
        "scaled_training_set[:3]"
      ],
      "metadata": {
        "colab": {
          "base_uri": "https://localhost:8080/"
        },
        "id": "m2BaA9c5vFkv",
        "outputId": "22a970c4-4494-4f63-e25a-75cbc2b05acf"
      },
      "execution_count": 7,
      "outputs": [
        {
          "output_type": "execute_result",
          "data": {
            "text/plain": [
              "array([[0.08581368],\n",
              "       [0.09701243],\n",
              "       [0.09433366]])"
            ]
          },
          "metadata": {},
          "execution_count": 7
        }
      ]
    },
    {
      "cell_type": "code",
      "source": [
        "##creating 60 times steps(60 past steps) and 1 output\n",
        "X_train = []\n",
        "y_train = []\n",
        "\n",
        "for i in range(60,1258):\n",
        "  X_train.append(scaled_training_set[i-60:i,0])\n",
        "  y_train.append(scaled_training_set[i,0])\n",
        "\n",
        "X_train,y_train = np.array(X_train),np.array(y_train)"
      ],
      "metadata": {
        "id": "pHe8_KIRvFnM"
      },
      "execution_count": 8,
      "outputs": []
    },
    {
      "cell_type": "code",
      "source": [
        "X_train,y_train"
      ],
      "metadata": {
        "colab": {
          "base_uri": "https://localhost:8080/"
        },
        "id": "ezJf66O6vFpw",
        "outputId": "56286e2f-ca53-4d39-961c-1fb5ef998caa"
      },
      "execution_count": 9,
      "outputs": [
        {
          "output_type": "execute_result",
          "data": {
            "text/plain": [
              "(array([[0.08581368, 0.09701243, 0.09433366, ..., 0.07846566, 0.08034452,\n",
              "         0.08497656],\n",
              "        [0.09701243, 0.09433366, 0.09156187, ..., 0.08034452, 0.08497656,\n",
              "         0.08627874],\n",
              "        [0.09433366, 0.09156187, 0.07984225, ..., 0.08497656, 0.08627874,\n",
              "         0.08471612],\n",
              "        ...,\n",
              "        [0.92106928, 0.92438053, 0.93048218, ..., 0.95475854, 0.95204256,\n",
              "         0.95163331],\n",
              "        [0.92438053, 0.93048218, 0.9299055 , ..., 0.95204256, 0.95163331,\n",
              "         0.95725128],\n",
              "        [0.93048218, 0.9299055 , 0.93113327, ..., 0.95163331, 0.95725128,\n",
              "         0.93796041]]),\n",
              " array([0.08627874, 0.08471612, 0.07454052, ..., 0.95725128, 0.93796041,\n",
              "        0.93688146]))"
            ]
          },
          "metadata": {},
          "execution_count": 9
        }
      ]
    },
    {
      "cell_type": "code",
      "source": [
        "## add new dimention\n",
        "X_train = np.reshape(X_train, (X_train.shape[0],X_train.shape[1],1))"
      ],
      "metadata": {
        "id": "c0-XZX21vFsE"
      },
      "execution_count": 10,
      "outputs": []
    },
    {
      "cell_type": "markdown",
      "source": [
        "## building RNN"
      ],
      "metadata": {
        "id": "OeukY7Sq-jJO"
      }
    },
    {
      "cell_type": "code",
      "source": [
        "## note : drop out regularization to avoid overfitting"
      ],
      "metadata": {
        "id": "kPCrChv8_Vm8"
      },
      "execution_count": null,
      "outputs": []
    },
    {
      "cell_type": "code",
      "source": [
        "#initialize the rnn\n",
        "regressor = Sequential()"
      ],
      "metadata": {
        "id": "WREAC2b8vFvm"
      },
      "execution_count": 13,
      "outputs": []
    },
    {
      "cell_type": "code",
      "source": [
        "## adding our first lstm model\n",
        "regressor.add( LSTM( units=50, return_sequences= True, input_shape=(X_train.shape[1],1) ) )\n",
        "regressor.add( Dropout(rate=0.2) )"
      ],
      "metadata": {
        "id": "2QV3yot5-lwD"
      },
      "execution_count": 16,
      "outputs": []
    },
    {
      "cell_type": "code",
      "source": [
        "## add 2nd lstm layer\n",
        "regressor.add( LSTM( units=50, return_sequences= True) )\n",
        "regressor.add( Dropout(rate=0.2) )"
      ],
      "metadata": {
        "id": "Nl4EMemn-l2A"
      },
      "execution_count": 17,
      "outputs": []
    },
    {
      "cell_type": "code",
      "source": [
        "## add 3rd lstm layer\n",
        "regressor.add( LSTM( units=50, return_sequences= True) )\n",
        "regressor.add( Dropout(rate=0.2) )"
      ],
      "metadata": {
        "id": "L_xa-GQ9-l5c"
      },
      "execution_count": 18,
      "outputs": []
    },
    {
      "cell_type": "code",
      "source": [
        "## add 4th lstm layer\n",
        "regressor.add( LSTM( units=50, return_sequences= False) )\n",
        "regressor.add( Dropout(rate=0.2) )"
      ],
      "metadata": {
        "id": "51JIOrUSEJK6"
      },
      "execution_count": 19,
      "outputs": []
    },
    {
      "cell_type": "code",
      "source": [
        "## add output layer\n",
        "regressor.add( Dense(units=1) )"
      ],
      "metadata": {
        "id": "b42ugvjYEJOV"
      },
      "execution_count": 20,
      "outputs": []
    },
    {
      "cell_type": "code",
      "source": [
        "## compiling the RNN\n",
        "regressor.compile(optimizer='adam',loss='mean_squared_error')"
      ],
      "metadata": {
        "id": "lchzT58jElAk"
      },
      "execution_count": 22,
      "outputs": []
    },
    {
      "cell_type": "code",
      "source": [],
      "metadata": {
        "id": "6Gn_IUkrElDQ"
      },
      "execution_count": null,
      "outputs": []
    },
    {
      "cell_type": "code",
      "source": [],
      "metadata": {
        "id": "wDtgc1ubElG2"
      },
      "execution_count": null,
      "outputs": []
    }
  ]
}